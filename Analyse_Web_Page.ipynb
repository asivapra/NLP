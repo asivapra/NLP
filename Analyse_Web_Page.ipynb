{
 "cells": [
  {
   "cell_type": "markdown",
   "metadata": {},
   "source": [
    "# Parse a website and say what it is about\n",
    "\n",
    "## INTRODUCTION\n",
    "\n",
    "A web page that is text-centric will give an idea about its content through frequent usage of certain words and phrases. \n",
    "By analying the content of a page for word and phrase frequencies we can deduce the purpose of the page. \n",
    "\n",
    "### Method\n",
    "\n",
    "The web page content is retrieved in a way similar to 'curl' or 'wget'. Only the human readable content is to be analysed. The content is then tokenized and cleaned of common words such as 'a', 'and', 'the', etc. The rest are trimmed to remove endings (e.g. plurals) to form the stems. The frequency of these are calculated and added to an array in descending order. The first 2 to 5 words will usually say what the page is about.\n",
    "\n",
    "By training the dataset using a number of pages of the same theme (e.g. Machine Leraning) it should correctly classify a new page in the same theme.\n",
    "\n",
    "#### Author: Arapaut V. Sivaprasad\n",
    "\n",
    "#### Dates\n",
    "\n",
    "    Created: 26 Oct, 2019.  \n",
    "    Last Modified: 30 Oct, 2019."
   ]
  },
  {
   "cell_type": "markdown",
   "metadata": {},
   "source": [
    "## Import the Python module\n",
    "\n",
    "The NLTK module and the package, 'stopwords', are required in this example."
   ]
  },
  {
   "cell_type": "code",
   "execution_count": 36,
   "metadata": {},
   "outputs": [
    {
     "name": "stderr",
     "output_type": "stream",
     "text": [
      "[nltk_data] Downloading package stopwords to\n",
      "[nltk_data]     C:\\Users\\avs29\\AppData\\Roaming\\nltk_data...\n",
      "[nltk_data]   Package stopwords is already up-to-date!\n",
      "[nltk_data] Downloading package words to\n",
      "[nltk_data]     C:\\Users\\avs29\\AppData\\Roaming\\nltk_data...\n",
      "[nltk_data]   Package words is already up-to-date!\n"
     ]
    },
    {
     "data": {
      "text/plain": [
       "True"
      ]
     },
     "execution_count": 36,
     "metadata": {},
     "output_type": "execute_result"
    }
   ],
   "source": [
    "import nltk\n",
    "#nltk.download()\n",
    "nltk.download('stopwords')\n",
    "nltk.download('words')\n"
   ]
  },
  {
   "cell_type": "markdown",
   "metadata": {},
   "source": [
    "## Get the web page content\n",
    "\n",
    "By specifying a URL its raw page content is retrieved. Though it returns the html tags like 'title' and 'description', they cannot be trusted fully. The page content must say what the page is about and it can be corroborated with title and description."
   ]
  },
  {
   "cell_type": "code",
   "execution_count": 37,
   "metadata": {
    "scrolled": true
   },
   "outputs": [],
   "source": [
    "import urllib.request\n",
    "#url = \"https://en.wikipedia.org/wiki/Machine_learning\"\n",
    "url = \"https://en.wikipedia.org/wiki/SpaceX\"\n",
    "#url = \"https://www.webgenie.com\"\n",
    "#response =  urllib.request.urlopen('https://en.wikipedia.org/wiki/SpaceX')\n",
    "response =  urllib.request.urlopen(url)\n",
    "html = response.read()\n",
    "#print(html)"
   ]
  },
  {
   "cell_type": "markdown",
   "metadata": {},
   "source": [
    "## Get the page title and keep it.\n",
    "\n",
    "Generally the page title will represent the page content, but it cannot be assumed as some may be trying to cheat the search engines. Comparing the title with the page content may give us more confidence."
   ]
  },
  {
   "cell_type": "code",
   "execution_count": 38,
   "metadata": {},
   "outputs": [
    {
     "name": "stdout",
     "output_type": "stream",
     "text": [
      "SpaceX - Wikipedia\n"
     ]
    }
   ],
   "source": [
    "from bs4 import BeautifulSoup\n",
    "soup = BeautifulSoup(html,'html.parser')\n",
    "text = soup.get_text(strip = True)\n",
    "\n",
    "# Get the document title\n",
    "title = soup.title.string\n",
    "metas = soup.find_all('meta')\n",
    "#print (metas)\n",
    "\n",
    "# To get the 'decription' meta tag. Do not remove.\n",
    "#print ([ meta.attrs['content'] for meta in metas if 'name' in meta.attrs and meta.attrs['name'] == 'description' ])\n",
    "print(title)"
   ]
  },
  {
   "cell_type": "markdown",
   "metadata": {},
   "source": [
    "## Split the text into tokens\n",
    "\n",
    "The text is split at white-spaces. This splitting is not always accurate and sometimes can lead to concatenating two words (e.g. 'Insupervised', 'thetraining', 'datafor'). The frequency of this is low and can be ignored. "
   ]
  },
  {
   "cell_type": "code",
   "execution_count": 39,
   "metadata": {},
   "outputs": [],
   "source": [
    "tokens = [t for t in text.split()]\n",
    "#print(tokens)"
   ]
  },
  {
   "cell_type": "markdown",
   "metadata": {},
   "source": [
    "## Remove common words\n",
    "\n",
    "stopwords.words('english') is a file containing a list of words like 'i, me, my, myself, we, ...'. Tokens matching these are removed.\n",
    "\n",
    "'nltk.FreqDist(clean_tokens)' determines the frequency of occurrence of the remaining words. It has been observed that these frequencies are not accurate. However, the disparities are not big to be a concern."
   ]
  },
  {
   "cell_type": "code",
   "execution_count": 40,
   "metadata": {},
   "outputs": [],
   "source": [
    "from nltk.corpus import stopwords\n",
    "sr= stopwords.words('english')\n",
    "\n",
    "clean_tokens = tokens[:]\n",
    "for token in tokens:\n",
    "    if token in stopwords.words('english'):\n",
    "        clean_tokens.remove(token)\n",
    "freq = nltk.FreqDist(clean_tokens)"
   ]
  },
  {
   "cell_type": "markdown",
   "metadata": {},
   "source": [
    "## Make a list of words and their frequencies\n",
    "\n",
    "By appending the frequency number before the word, it will be possible to sort the list numerically. Then, the top x numbers can be chosen for analysis."
   ]
  },
  {
   "cell_type": "code",
   "execution_count": 44,
   "metadata": {},
   "outputs": [],
   "source": [
    "# Get a list of words of 4+ chars to compare with tokens from the web page\n",
    "from nltk.corpus import words\n",
    "english_words = words.words()\n",
    "english_dict = {}\n",
    "for word in (english_words):\n",
    "    n = len(word)\n",
    "    if (n > 3):\n",
    "        english_dict[word] = 1\n"
   ]
  },
  {
   "cell_type": "code",
   "execution_count": 35,
   "metadata": {
    "scrolled": false
   },
   "outputs": [
    {
     "data": {
      "text/plain": [
       "['101:launch',\n",
       " '88:first',\n",
       " '51:rocket',\n",
       " '46:Space',\n",
       " '38:test',\n",
       " '38:The',\n",
       " '31:company',\n",
       " '29:May',\n",
       " '29:space',\n",
       " '28:March']"
      ]
     },
     "execution_count": 35,
     "metadata": {},
     "output_type": "execute_result"
    }
   ],
   "source": [
    "# Count all words on the page and sort. Only the words in english_dict are taken.\n",
    "wordlist = []\n",
    "for key,val in freq.items():\n",
    "    item = str(val) + ':' + str(key)\n",
    "    try:\n",
    "        if(english_dict[str(key)]):\n",
    "            wordlist.append(item)\n",
    "    except:\n",
    "        pass\n",
    "wordlist.sort(key=lambda fname: int(fname.split(':')[0]), reverse=True)\n",
    "wordlist[:10]"
   ]
  },
  {
   "cell_type": "raw",
   "metadata": {},
   "source": [
    "from nltk.corpus import words\n",
    "word_list = words.words()\n",
    "english_dict = {}\n",
    "# prints 236736\n",
    "#print (word_list[1001:1010])\n",
    "for word in (word_list):\n",
    "    english_dict[word] = 1\n",
    "\n",
    "try:\n",
    "    print(english_dict['data'])\n",
    "except:\n",
    "    pass"
   ]
  },
  {
   "cell_type": "raw",
   "metadata": {},
   "source": [
    "from PyDictionary import PyDictionary\n",
    "dictionary=PyDictionary()\n",
    "\n",
    "for i in range (10):\n",
    "    words = wordlist[i].split(':')\n",
    "    word = words[1]\n",
    "    print(word)\n",
    "    meaning = dictionary.meaning(word)\n",
    "    try:\n",
    "        print(meaning)\n",
    "        for key in meaning.keys():\n",
    "            print(key)\n",
    "            print (meaning[key])\n",
    "    except:\n",
    "        print(\"Not Good\")\n",
    "# Noun, Verb, Adverb, Adjective    "
   ]
  },
  {
   "cell_type": "markdown",
   "metadata": {},
   "source": [
    "## Make anagrams\n",
    "\n",
    "The top 10 are used to make anagrams of the words. The anagram is made from every two consecutive words. This number is arbitrary and we may have to use 3 or more. These are used to find in a hash array the keys that have these words in any order. Another way is to create two hash strings with the words in both orders. The drawback is that there will be one hash for each word, instead of one anagram for 2 words, and that it will not be possible to check one word alone in the hash string. This is important to verify that the anagram detected actually contains both words. There is a possibility that a word may be in an anagram beloging to another phrase, but the chances of both words in the anagram will be lower (though not impossible)."
   ]
  },
  {
   "cell_type": "raw",
   "metadata": {},
   "source": [
    "from PyDictionary import PyDictionary\n",
    "dictionary=PyDictionary()\n",
    "\n",
    "meaning = dictionary.meaning(\"strings\")\n",
    "try:\n",
    "    print(meaning)\n",
    "    for key in meaning.keys():\n",
    "        print(key)\n",
    "        print (meaning[key])\n",
    "except:\n",
    "    print(\"Not Good\")\n",
    "# Noun, Verb, Adverb, Adjective\n"
   ]
  },
  {
   "cell_type": "code",
   "execution_count": 9,
   "metadata": {},
   "outputs": [],
   "source": [
    "def MakeAnagram(w1,w2):\n",
    "    \n",
    "    # Append the words together and remove duplicate letters\n",
    "    word = ''.join(set(w1+w2)) # Remove duplicates\n",
    "\n",
    "    # Make the anagram and convert all letters to lowercase\n",
    "    anagram = ''.join(sorted(word.lower()))\n",
    "    return anagram"
   ]
  },
  {
   "cell_type": "code",
   "execution_count": 10,
   "metadata": {},
   "outputs": [
    {
     "name": "stdout",
     "output_type": "stream",
     "text": [
      "['acdehimprrstvx', 'acdehilmnrrtuv', 'acfhilnrstu', 'acffilnorst', 'acekoprst', 'acekmpssu', 'ekmstu']\n"
     ]
    }
   ],
   "source": [
    "anagrams = []\n",
    "anagrams_txt = './anagrams.txt'\n",
    "with open(anagrams_txt, 'a+') as f:\n",
    "    for i in range (0,9):\n",
    "        # Take the current and next word from the 'wordlist'\n",
    "        word1 = wordlist[i].split(\":\")\n",
    "        word2 = wordlist[i+1].split(\":\")\n",
    "\n",
    "        n1 = len(word1[1])\n",
    "        if (n1 < 4):\n",
    "            continue\n",
    "\n",
    "        n2 = len(word2[1])\n",
    "        if (n2 < 4):\n",
    "            continue\n",
    "        anagram = MakeAnagram(word1[1], word2[1])\n",
    "\n",
    "        # Add to a list, 'anagrams'\n",
    "        anagrams.append(anagram)\n",
    "        output = anagram + \":\" + word1[1] + \",\" + word2[1] + \"\\n\"\n",
    "        f.write(output)\n",
    "\n",
    "#    f.write(anagrams)\n",
    "f.close()\n",
    "\n",
    "print(anagrams)    "
   ]
  },
  {
   "cell_type": "code",
   "execution_count": 11,
   "metadata": {
    "scrolled": true
   },
   "outputs": [],
   "source": [
    "def ReadDict():\n",
    "    anagrams_txt = './anagrams.txt'\n",
    "#    print(anagrams_txt)\n",
    "    with open(anagrams_txt) as f:\n",
    "        try:\n",
    "            for line in f:\n",
    "#                print(line)\n",
    "                (key, val) = line.split(\":\")\n",
    "                d[key] = val\n",
    "        except:\n",
    "            pass\n",
    "    f.close()\n",
    "#    return d       "
   ]
  },
  {
   "cell_type": "code",
   "execution_count": 12,
   "metadata": {
    "scrolled": true
   },
   "outputs": [
    {
     "data": {
      "text/plain": [
       "{'aceghilmnr': 'learning,machine\\n',\n",
       " 'acdehimnt': 'machine,data\\n',\n",
       " 'adginrt': 'data,training\\n',\n",
       " 'aghilmnorst': 'training,algorithms\\n',\n",
       " 'aceghilmmnorst': 'algorithms,Machine\\n',\n",
       " 'delmosu': 'used,model\\n',\n",
       " 'acdehimprrstvx': 'SpaceX,RetrievedMarch\\n',\n",
       " 'acdehilmnrrtuv': 'RetrievedMarch,launch\\n',\n",
       " 'acfhilnrstu': 'launch,first\\n',\n",
       " 'acffilnorst': 'first,Falcon\\n',\n",
       " 'acekoprst': 'rocket,Space\\n',\n",
       " 'acekmpssu': 'Space,Musk\\n',\n",
       " 'ekmstu': 'Musk,test\\n'}"
      ]
     },
     "execution_count": 12,
     "metadata": {},
     "output_type": "execute_result"
    }
   ],
   "source": [
    "d = {}\n",
    "ReadDict()\n",
    "d"
   ]
  },
  {
   "cell_type": "code",
   "execution_count": 13,
   "metadata": {},
   "outputs": [],
   "source": [
    "# See if a word matches with the dict\n",
    "def checkDict(key):\n",
    "#    print (key, \":\", d[key])\n",
    "    return key\n"
   ]
  },
  {
   "cell_type": "markdown",
   "metadata": {},
   "source": [
    "## Check a word in anagrams \n",
    "\n",
    "To check that a word exists in any anagram in the list. This is not required in the final case. It is required to check that two (or more) words together is in the hash array. For that, the previous cell's calculation of 'anagram' is enough."
   ]
  },
  {
   "cell_type": "code",
   "execution_count": 14,
   "metadata": {},
   "outputs": [],
   "source": [
    "# This cell is only to check that a word is in any anagram. Not part of the core program.\n",
    "def checkAnagram(word):\n",
    "    \n",
    "    # Change the search word to lowercase\n",
    "    word = word.lower()\n",
    "    m = len(anagrams)\n",
    "    n = len(word)\n",
    "    if (n < 4):\n",
    "        print(\"Word must be at least 4 chars\")\n",
    "        return\n",
    "    found = 0\n",
    "    for i in range(m):\n",
    "        if (found):\n",
    "            break\n",
    "        l = anagrams[i]\n",
    "        found = 0\n",
    "        \n",
    "        # See that all letters in the word are in the anagram, in any order\n",
    "        for j in range(n):\n",
    "            if(word[j] in l):\n",
    "                found = 1\n",
    "            else:\n",
    "                found = 0\n",
    "                break\n",
    "    if (found == 0):\n",
    "        pass\n",
    "    else:\n",
    "#        print(word,l)\n",
    "        return checkDict(l)\n",
    "#    print(n)\n"
   ]
  },
  {
   "cell_type": "code",
   "execution_count": 15,
   "metadata": {},
   "outputs": [],
   "source": [
    "# Two words are sent to this func to see if their combined anagram exists in 'd' as a key\n",
    "# If found, take the value of the key\n",
    "# Split the value at comma and check whether the first two match the words in any order.\n",
    "def CheckWords(w1, w2):\n",
    "    n1 = len(w1)\n",
    "    n2 = len(w2)\n",
    "    \n",
    "    # Both words must be at least 4 chars long.\n",
    "    if (n1 < 4 or n2 < 4):\n",
    "        print(\"Word must be at least 4 chars\")\n",
    "        return 0\n",
    "    \n",
    "    # Create the combined anagram. This must be present in 'd' as a key\n",
    "    anagram = MakeAnagram(w1, w2)\n",
    "#    print(anagram)\n",
    "    try:\n",
    "        if (d[anagram]):\n",
    "            val = d[anagram].split(\",\")\n",
    "            \n",
    "            # Check that the anagram contains the w1, w2. If one of them is an anagram of another word, it will mismatch\n",
    "            # This test ensures that the requested two words are really the ones in the hash.\n",
    "            if ((val[0] == w1 and val[1] == w2) or (val[1] == w1 and val[0] == w2)):\n",
    "#                print (\"Found:\", val)\n",
    "                return val[2]\n",
    "            else:\n",
    "                print(\"Mis-match\")\n",
    "                return 0\n",
    "    except:\n",
    "            print(\"Key Error\")\n",
    "            return 0\n"
   ]
  },
  {
   "cell_type": "code",
   "execution_count": 16,
   "metadata": {},
   "outputs": [
    {
     "name": "stdout",
     "output_type": "stream",
     "text": [
      "Mis-match\n",
      "0\n"
     ]
    }
   ],
   "source": [
    "#ReadDict()\n",
    "res = CheckWords('machine', 'learning')\n",
    "print(res)\n"
   ]
  },
  {
   "cell_type": "code",
   "execution_count": null,
   "metadata": {},
   "outputs": [],
   "source": []
  },
  {
   "cell_type": "code",
   "execution_count": null,
   "metadata": {},
   "outputs": [],
   "source": []
  }
 ],
 "metadata": {
  "kernelspec": {
   "display_name": "Python 3",
   "language": "python",
   "name": "python3"
  },
  "language_info": {
   "codemirror_mode": {
    "name": "ipython",
    "version": 3
   },
   "file_extension": ".py",
   "mimetype": "text/x-python",
   "name": "python",
   "nbconvert_exporter": "python",
   "pygments_lexer": "ipython3",
   "version": "3.7.4"
  }
 },
 "nbformat": 4,
 "nbformat_minor": 2
}
