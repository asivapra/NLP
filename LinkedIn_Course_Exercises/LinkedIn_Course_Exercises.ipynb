{
 "cells": [
  {
   "cell_type": "markdown",
   "metadata": {},
   "source": [
    "# [Advanvced Python](https://www.linkedin.com/learning/advanced-python/)\n",
    "\n",
    "## Using Utilities and Functions\n",
    "\n",
    "### Utilities"
   ]
  },
  {
   "cell_type": "code",
   "execution_count": 2,
   "metadata": {},
   "outputs": [],
   "source": [
    "import itertools"
   ]
  },
  {
   "cell_type": "code",
   "execution_count": 3,
   "metadata": {},
   "outputs": [],
   "source": [
    "    l = [1, 2, 3, 4, 5, 6]"
   ]
  },
  {
   "cell_type": "code",
   "execution_count": 4,
   "metadata": {},
   "outputs": [
    {
     "data": {
      "text/plain": [
       "True"
      ]
     },
     "execution_count": 4,
     "metadata": {},
     "output_type": "execute_result"
    }
   ],
   "source": [
    "all(l)"
   ]
  },
  {
   "cell_type": "code",
   "execution_count": 5,
   "metadata": {},
   "outputs": [
    {
     "data": {
      "text/plain": [
       "1"
      ]
     },
     "execution_count": 5,
     "metadata": {},
     "output_type": "execute_result"
    }
   ],
   "source": [
    "min(l)"
   ]
  },
  {
   "cell_type": "code",
   "execution_count": 6,
   "metadata": {},
   "outputs": [
    {
     "data": {
      "text/plain": [
       "6"
      ]
     },
     "execution_count": 6,
     "metadata": {},
     "output_type": "execute_result"
    }
   ],
   "source": [
    "max(l)"
   ]
  },
  {
   "cell_type": "code",
   "execution_count": 7,
   "metadata": {},
   "outputs": [
    {
     "data": {
      "text/plain": [
       "21"
      ]
     },
     "execution_count": 7,
     "metadata": {},
     "output_type": "execute_result"
    }
   ],
   "source": [
    "sum(l)"
   ]
  },
  {
   "cell_type": "markdown",
   "metadata": {},
   "source": [
    "### Iterators"
   ]
  },
  {
   "cell_type": "code",
   "execution_count": 8,
   "metadata": {},
   "outputs": [],
   "source": [
    "d = [\"Sun\", \"Mon\", \"Tue\", \"Wed\", \"Thu\", \"Fri\", \"Sat\"]\n",
    "df = [\"Dim\", \"Lun\", \"Mar\", \"Mer\", \"Jeu\", \"Ven\", \"Sam\"]\n"
   ]
  },
  {
   "cell_type": "code",
   "execution_count": 9,
   "metadata": {},
   "outputs": [],
   "source": [
    "i = iter(d)"
   ]
  },
  {
   "cell_type": "code",
   "execution_count": 10,
   "metadata": {
    "scrolled": true
   },
   "outputs": [
    {
     "data": {
      "text/plain": [
       "'Sun'"
      ]
     },
     "execution_count": 10,
     "metadata": {},
     "output_type": "execute_result"
    }
   ],
   "source": [
    "next(i)"
   ]
  },
  {
   "cell_type": "code",
   "execution_count": 11,
   "metadata": {
    "scrolled": false
   },
   "outputs": [
    {
     "name": "stdout",
     "output_type": "stream",
     "text": [
      "1 Sun\n",
      "2 Mon\n",
      "3 Tue\n",
      "4 Wed\n",
      "5 Thu\n",
      "6 Fri\n",
      "7 Sat\n"
     ]
    }
   ],
   "source": [
    "for i,m in enumerate(d, start=1):\n",
    "    print(i,m)"
   ]
  },
  {
   "cell_type": "code",
   "execution_count": 12,
   "metadata": {
    "scrolled": true
   },
   "outputs": [
    {
     "name": "stdout",
     "output_type": "stream",
     "text": [
      "('Sun', 'Dim')\n",
      "('Mon', 'Lun')\n",
      "('Tue', 'Mar')\n",
      "('Wed', 'Mer')\n",
      "('Thu', 'Jeu')\n",
      "('Fri', 'Ven')\n",
      "('Sat', 'Sam')\n"
     ]
    }
   ],
   "source": [
    "for m in zip(d,df):\n",
    "    print(m)"
   ]
  },
  {
   "cell_type": "code",
   "execution_count": 13,
   "metadata": {
    "scrolled": true
   },
   "outputs": [
    {
     "name": "stdout",
     "output_type": "stream",
     "text": [
      "1 Sun = Dim in French\n",
      "2 Mon = Lun in French\n",
      "3 Tue = Mar in French\n",
      "4 Wed = Mer in French\n",
      "5 Thu = Jeu in French\n",
      "6 Fri = Ven in French\n",
      "7 Sat = Sam in French\n"
     ]
    }
   ],
   "source": [
    "for i,m in enumerate(zip(d,df), start=1):\n",
    "    print(i,m[0], '=', m[1], 'in French')"
   ]
  },
  {
   "cell_type": "code",
   "execution_count": 14,
   "metadata": {
    "scrolled": true
   },
   "outputs": [
    {
     "name": "stdout",
     "output_type": "stream",
     "text": [
      "0 Sun Dim\n",
      "1 Mon Lun\n",
      "2 Tue Mar\n",
      "3 Wed Mer\n",
      "4 Thu Jeu\n",
      "5 Fri Ven\n",
      "6 Sat Sam\n"
     ]
    }
   ],
   "source": [
    "ddf = zip(d,df)\n",
    "for i,m in enumerate(ddf):\n",
    "    print(i,m[0],m[1])"
   ]
  },
  {
   "cell_type": "markdown",
   "metadata": {},
   "source": [
    "### Transforms"
   ]
  },
  {
   "cell_type": "code",
   "execution_count": 15,
   "metadata": {
    "scrolled": true
   },
   "outputs": [
    {
     "name": "stdout",
     "output_type": "stream",
     "text": [
      "[1, 5, 13, 381, 47]\n",
      "['a', 'b', 'c', 'e', 'i', 'k', 'l', 'm', 'n', 'o']\n",
      "[1, 64, 16, 25, 169, 0, 145161, 168100, 3364, 2209]\n",
      "['B', 'B', 'A', 'C', 'F', 'D', 'A', 'C']\n",
      "<class 'list'>\n",
      "[1, 8, 4, 5, 13, 0, 381, 410, 58, 47, 81, 89, 94, 78, 61, 66, 99, 74]\n"
     ]
    }
   ],
   "source": [
    "def fOdds(x):\n",
    "    if x % 2 == 0: return False\n",
    "    else: return True\n",
    "\n",
    "\n",
    "def Lowers(x)    :\n",
    "    if x.isupper(): return False\n",
    "    return True\n",
    "    \n",
    "\n",
    "def Squares(x):\n",
    "    return x**2\n",
    "\n",
    "\n",
    "def Grade(x):\n",
    "    if (x >= 90): return \"A\"\n",
    "    elif (x >= 80 and x < 90): return \"B\"\n",
    "    elif (x >= 70 and x < 80): return \"C\"\n",
    "    elif (x >= 65 and x < 70): return \"D\"\n",
    "    else: return \"F\"\n",
    "    \n",
    "    \n",
    "def Return(x):\n",
    "    return x\n",
    "    \n",
    "# -------------------------------------------------------------------------------------\n",
    "n = (1, 8, 4,5,13,0,381,410,58,47)\n",
    "ch = \"abcDeFGHiJklmnoP\"\n",
    "gr = (81,89,94,78,61,66,99,74)\n",
    "\n",
    "odds = list(filter(fOdds, n))\n",
    "print(odds)\n",
    "\n",
    "lowers = list(filter(Lowers,ch))\n",
    "print(lowers)\n",
    "\n",
    "'''\n",
    "The map function takes one or more sequence of values and creates a new sequence\n",
    "\n",
    "Python map() function is used to apply a function on all the elements of specified \n",
    "iterable and return map object. Python map object is an iterator, so we can iterate \n",
    "over its elements. We can also convert map object to sequence objects \n",
    "such as list, tuple etc. using their factory functions.\n",
    "\n",
    "Iterable is an object, which one can iterate over. It generates an Iterator when passed \n",
    "to iter() method. Iterator is an object, which is used to iterate over an iterable \n",
    "object using __next__() method. Iterators have __next__() method, which returns the \n",
    "next item of the object.\n",
    "'''\n",
    "\n",
    "squares = list(map(Squares, n))\n",
    "print(squares)\n",
    "\n",
    "lt = list(map(Grade, gr))\n",
    "print(lt)\n",
    "\n",
    "ngr = list(map(Return, n + gr))\n",
    "#ngr = n + gr\n",
    "print(type(ngr))\n",
    "print(ngr)"
   ]
  },
  {
   "cell_type": "markdown",
   "metadata": {},
   "source": [
    "### Itertools"
   ]
  },
  {
   "cell_type": "code",
   "execution_count": 16,
   "metadata": {},
   "outputs": [
    {
     "name": "stdout",
     "output_type": "stream",
     "text": [
      "Joe\n",
      "John\n",
      "Mike\n",
      "Joe\n",
      "John\n",
      "Mike\n",
      "Joe\n",
      "John\n",
      "Mike\n",
      "Joe\n"
     ]
    }
   ],
   "source": [
    "# https://docs.python.org/3/library/itertools.html\n",
    "seq1 = [\"Joe\", \"John\", \"Mike\"]\n",
    "\n",
    "# Cycles through the list and start from beginning\n",
    "cycle1 = itertools.cycle(seq1)\n",
    "for i in range(10): print(next(cycle1))"
   ]
  },
  {
   "cell_type": "code",
   "execution_count": 17,
   "metadata": {
    "scrolled": true
   },
   "outputs": [
    {
     "name": "stdout",
     "output_type": "stream",
     "text": [
      "100\n",
      "110\n",
      "120\n",
      "130\n",
      "140\n",
      "150\n",
      "160\n",
      "170\n",
      "180\n",
      "190\n"
     ]
    }
   ],
   "source": [
    "# count iterator starts with a number and increments by another (def=1)\n",
    "count1 = itertools.count(100,10)\n",
    "for i in range(10): print(next(count1))"
   ]
  },
  {
   "cell_type": "code",
   "execution_count": 18,
   "metadata": {},
   "outputs": [
    {
     "name": "stdout",
     "output_type": "stream",
     "text": [
      "[10, 19, 49, 89, 94, 154, 157]\n",
      "[10, 10, 30, 40, 40, 60, 60]\n",
      "[10, 9, 9, 9, 5, 5, 3]\n"
     ]
    }
   ],
   "source": [
    "vals = [10,9,30,40,5,60,3]\n",
    "\n",
    "# Adds all values up to the current\n",
    "acc = itertools.accumulate(vals)\n",
    "print(list(acc))\n",
    "\n",
    "# Prints out the values as such until the max is reached\n",
    "acc = itertools.accumulate(vals, max)\n",
    "print(list(acc))\n",
    "\n",
    "# Prints out the values as lower of the current and previous\n",
    "acc = itertools.accumulate(vals, min)\n",
    "print(list(acc))\n"
   ]
  },
  {
   "cell_type": "code",
   "execution_count": 19,
   "metadata": {},
   "outputs": [
    {
     "name": "stdout",
     "output_type": "stream",
     "text": [
      "<class 'itertools.chain'>\n",
      "['A', 'B', 'C', 'D', '1', '2', '3', '4']\n"
     ]
    }
   ],
   "source": [
    "# 'Chain' to connect two sequences\n",
    "x = itertools.chain(\"ABCD\", \"1234\")\n",
    "#x = \"ABCD\" + \"1234\"\n",
    "print(type(x))\n",
    "\n",
    "# 'list' converts a string to its chars and a chain object into its chars as well\n",
    "print(list(x))"
   ]
  },
  {
   "cell_type": "code",
   "execution_count": 21,
   "metadata": {},
   "outputs": [
    {
     "name": "stdout",
     "output_type": "stream",
     "text": [
      "[40, 5, 60, 3] -- [40, 5, 60, 3]\n"
     ]
    }
   ],
   "source": [
    "def testFunction(x):\n",
    "    if (x < 40): return True\n",
    "\n",
    "# dropwhile and takewhile will return values until\n",
    "# a certain condition is met that stops them\n",
    "v1 = list(itertools.dropwhile(testFunction, vals))\n",
    "v2 = list(itertools.dropwhile(testFunction, vals))\n",
    "print(v1, \"--\", v2)"
   ]
  },
  {
   "cell_type": "markdown",
   "metadata": {},
   "source": [
    "### Function documentation strings"
   ]
  },
  {
   "cell_type": "code",
   "execution_count": 23,
   "metadata": {
    "scrolled": false
   },
   "outputs": [
    {
     "name": "stdout",
     "output_type": "stream",
     "text": [
      "map(func, *iterables) --> map object\n",
      "\n",
      "Make an iterator that computes the function using arguments from\n",
      "each of the iterables.  Stops when the shortest iterable is exhausted.\n"
     ]
    }
   ],
   "source": [
    "# Demonstrate the use of function docstrings\n",
    "print(map.__doc__)"
   ]
  },
  {
   "cell_type": "code",
   "execution_count": 25,
   "metadata": {},
   "outputs": [
    {
     "name": "stdout",
     "output_type": "stream",
     "text": [
      "This module implements specialized container datatypes providing\n",
      "alternatives to Python's general purpose built-in containers, dict,\n",
      "list, set, and tuple.\n",
      "\n",
      "* namedtuple   factory function for creating tuple subclasses with named fields\n",
      "* deque        list-like container with fast appends and pops on either end\n",
      "* ChainMap     dict-like class for creating a single view of multiple mappings\n",
      "* Counter      dict subclass for counting hashable objects\n",
      "* OrderedDict  dict subclass that remembers the order entries were added\n",
      "* defaultdict  dict subclass that calls a factory function to supply missing values\n",
      "* UserDict     wrapper around dictionary objects for easier dict subclassing\n",
      "* UserList     wrapper around list objects for easier list subclassing\n",
      "* UserString   wrapper around string objects for easier string subclassing\n",
      "\n",
      "\n"
     ]
    }
   ],
   "source": [
    "import collections\n",
    "print(collections.__doc__)"
   ]
  },
  {
   "cell_type": "code",
   "execution_count": 27,
   "metadata": {},
   "outputs": [
    {
     "name": "stdout",
     "output_type": "stream",
     "text": [
      "myFunction(arg1, arg2=None) --> Doesn't really do anything special.\n",
      "\n",
      "    Parameters:\n",
      "    arg1: the first argument. Whatever you feel like passing.\n",
      "    arg2: the second argument. Defaults to None. Whatever makes you happy.\n",
      "    \n"
     ]
    },
    {
     "data": {
      "text/plain": [
       "''"
      ]
     },
     "execution_count": 27,
     "metadata": {},
     "output_type": "execute_result"
    }
   ],
   "source": [
    "def myFunction(arg1, arg2=None):\n",
    "    \"\"\"myFunction(arg1, arg2=None) --> Doesn't really do anything special.\n",
    "\n",
    "    Parameters:\n",
    "    arg1: the first argument. Whatever you feel like passing.\n",
    "    arg2: the second argument. Defaults to None. Whatever makes you happy.\n",
    "    \"\"\"\n",
    "    print(arg1, arg2)\n",
    "\n",
    "\n",
    "def main():\n",
    "    print(myFunction.__doc__)\n",
    "\n",
    "\n",
    "if __name__ == \"__main__\":\n",
    "    main()\n",
    "\n",
    "'''\n",
    "Best practices:\n",
    "\n",
    "Ref: https://www.python.org/dev/peps/pep-0257\n",
    "\n",
    "- Enclose in triple quotes. Otherwise it will not be a doc string\n",
    "- First line must be a summary of functionality\n",
    "- Packages and Modules:\n",
    "    - List important classes, functions and exceptions\n",
    "- Classes:\n",
    "    - List the important methods\n",
    "Functions:\n",
    "    - List parameters and explain each per line\n",
    "    - If a return value, explain it. Otherwise omit it.\n",
    "    - If any exceptions, list them too.\n",
    "\n",
    "'''  \n",
    "''''''"
   ]
  },
  {
   "cell_type": "markdown",
   "metadata": {},
   "source": [
    "### Variable argument lists"
   ]
  },
  {
   "cell_type": "code",
   "execution_count": 36,
   "metadata": {},
   "outputs": [
    {
     "name": "stdout",
     "output_type": "stream",
     "text": [
      "15\n",
      "60\n",
      "50\n"
     ]
    },
    {
     "data": {
      "text/plain": [
       "''"
      ]
     },
     "execution_count": 36,
     "metadata": {},
     "output_type": "execute_result"
    }
   ],
   "source": [
    "# Demonstrate the use of variable argument lists. Lets you send a variable number of arguments\n",
    "# to a function.\n",
    "\n",
    "    # e.g. def func(arg1, arg2, *arg3):\n",
    "\n",
    "# The variable argument list comes as the last item in the function definition\n",
    "# Positional arguements come first\n",
    "# The variable argument is generally specified as *args\n",
    "\n",
    "def addition(*args):\n",
    "    r = 0\n",
    "    for a in args:\n",
    "        r += a\n",
    "    return r\n",
    "\n",
    "\n",
    "def main():\n",
    "    # TODO: pass different arguments\n",
    "    print(addition(1,2,3,4,5))\n",
    "    print(addition(10,20,30))\n",
    "\n",
    "    # TODO: pass an existing list\n",
    "    N = [5,10,15,20]\n",
    "    print(addition(*N))\n",
    "\n",
    "\n",
    "if __name__ == \"__main__\":\n",
    "    main()\n",
    "\n",
    "# Drawback:\n",
    "'''\n",
    "If the function is changed to take a positionsl argument, then all instances of the function \n",
    "call must be changed.\n",
    "\n",
    "'''\n",
    "''''''"
   ]
  },
  {
   "cell_type": "markdown",
   "metadata": {},
   "source": [
    "### Lambda functions\n",
    "\n",
    "When a function is a simple, one-line statement it is better to define it in line. This is called the lambda function. In other languages it is called anonymous function.\n",
    "\n",
    "e.g. def Square(x):\n",
    "        return x*x\n",
    "        \n",
    "to\n",
    "\n",
    "    lambda x: x*x"
   ]
  },
  {
   "cell_type": "code",
   "execution_count": 71,
   "metadata": {},
   "outputs": [
    {
     "name": "stdout",
     "output_type": "stream",
     "text": [
      "[0.0, 18.33, 37.78, 100.0]\n",
      "[32.0, 53.6, 93.2, 212.0]\n",
      "[0.0, 18.33, 37.78, 100.0]\n",
      "[32.0, 38.67, 50.89, 87.56]\n",
      "<function <lambda> at 0x00000279E2FCA948>\n"
     ]
    }
   ],
   "source": [
    "def CtoF(t):\n",
    "    return round((t * 9/5 + 32),2)\n",
    "\n",
    "def FtoC(t):\n",
    "    return round(((t - 32)*5/9),2)\n",
    "\n",
    "#-------------------------------------------------------------\n",
    "f = [32, 65, 100, 212]\n",
    "c = [0,12,34,100]\n",
    "\n",
    "# Call the functions\n",
    "print(list(map(FtoC, f)))\n",
    "print(list(map(CtoF, c)))\n",
    "\n",
    "# Call lambda\n",
    "print(list(map(lambda t: round((t-32) * 5/9,2), f)))\n",
    "print(list(map(lambda t: round((t * 5/9) + 32,2), c)))\n",
    "\n",
    "print(lambda x: 2*3)"
   ]
  },
  {
   "cell_type": "markdown",
   "metadata": {},
   "source": [
    "### Keyword-only arguments"
   ]
  },
  {
   "cell_type": "code",
   "execution_count": 74,
   "metadata": {},
   "outputs": [
    {
     "name": "stdout",
     "output_type": "stream",
     "text": [
      "1 2 True\n"
     ]
    }
   ],
   "source": [
    "# Demonstrate the use of keyword-only arguments\n",
    "# The * in argument list indicates that the argument that follows must be\n",
    "# specified by the exact keyword. Improves readability.\n",
    "\n",
    "\n",
    "# use keyword-only arguments to help ensure code clarity\n",
    "def myFunction(arg1, arg2, *, suppressExceptions=False):\n",
    "    print(arg1, arg2, suppressExceptions)\n",
    "\n",
    "\n",
    "def main():\n",
    "    # try to call the function without the keyword\n",
    "    # myFunction(1, 2, True)\n",
    "    myFunction(1, 2, suppressExceptions=True)\n",
    "\n",
    "\n",
    "if __name__ == \"__main__\":\n",
    "    main()\n"
   ]
  },
  {
   "cell_type": "markdown",
   "metadata": {},
   "source": [
    "## Advanced Collections\n",
    "\n",
    "### Named tuple"
   ]
  },
  {
   "cell_type": "code",
   "execution_count": 78,
   "metadata": {},
   "outputs": [
    {
     "name": "stdout",
     "output_type": "stream",
     "text": [
      "XY(x=10, y=20) XY(x=30, y=40)\n",
      "10 20\n",
      "XY(x=100, y=20)\n"
     ]
    }
   ],
   "source": [
    "# Demonstrate the usage of namdtuple objects\n",
    "\n",
    "import collections\n",
    "\n",
    "\n",
    "def main():\n",
    "    # create a Point namedtuple\n",
    "    Point = collections.namedtuple(\"XY\", \"x y\")\n",
    "\n",
    "    p1 = Point(10, 20)\n",
    "    p2 = Point(30, 40)\n",
    "\n",
    "    print(p1, p2)\n",
    "    print(p1.x, p1.y)\n",
    "\n",
    "    # use _replace to create a new instance\n",
    "    p1 = p1._replace(x=100)\n",
    "    print(p1)\n",
    "\n",
    "\n",
    "if __name__ == \"__main__\":\n",
    "    main()\n"
   ]
  },
  {
   "cell_type": "markdown",
   "metadata": {},
   "source": [
    "### Default Dict\n",
    "\n",
    "Normal dict object must have an item initialised before changing or incremeting its value. \n",
    "Thus, \"fruitCounter['apple'] += 1\" will only work if \"fruitCounter['apple'] = 0\" has already been assigned. \n",
    "\n",
    "To avoid an error the incrementation will have to be inside a \"try/except\" block. It increases the complexity of the code.\n",
    "\n",
    "With defaultDict it initialises the Dict with a default value (0, 0.0 or '') for each key. Hence, a 'fruitCounter['apple'] += 1 will not give an error.\n",
    "\n",
    "Initialise the defaultDict as follows:\n",
    "\n",
    "        fruitCounter = defaultdict(int)\n",
    "        fruitCounter = defaultdict(float)\n",
    "        fruitCounter = defaultdict(str)\n",
    "\n",
    "To specify the value of the initialisation, do it as below.\n",
    "\n",
    "    fruitCounter = defaultdict(lambda: 100)"
   ]
  },
  {
   "cell_type": "code",
   "execution_count": 190,
   "metadata": {},
   "outputs": [
    {
     "name": "stdout",
     "output_type": "stream",
     "text": [
      "apple: 2\n",
      "pear: 1\n",
      "orange: 1\n",
      "banana: 3\n",
      "grape: 1\n",
      "0\n"
     ]
    }
   ],
   "source": [
    "# Demonstrate the usage of defaultdict objects\n",
    "\n",
    "from collections import defaultdict\n",
    "\n",
    "\n",
    "def main():\n",
    "    # define a list of items that we want to count\n",
    "    fruits = ['apple', 'pear', 'orange', 'banana',\n",
    "              'apple', 'grape', 'banana', 'banana']\n",
    "\n",
    "    # use a dictionary to count each element\n",
    "#    fruitCounter = defaultdict(str)\n",
    "    fruitCounter = defaultdict(lambda: 0)\n",
    "\n",
    "    # Count the elements in the list\n",
    "    for fruit in fruits:\n",
    "        fruitCounter[fruit] += 1\n",
    "\n",
    "    # print the result\n",
    "    for (k, v) in fruitCounter.items():\n",
    "        print(k + \": \" + str(v))\n",
    "    print(fruitCounter['dog'])\n",
    "\n",
    "if __name__ == \"__main__\":\n",
    "    main()\n"
   ]
  },
  {
   "cell_type": "markdown",
   "metadata": {},
   "source": [
    "### Counters\n",
    "\n",
    "This will allow to manipulate lists in various ways such as count, compare, get frequent words, get common items in two lists, etc.\n",
    "\n",
    "This can be used in comparing two documents and compare the word frquencies.\n",
    "\n",
    "Counter is a dict object."
   ]
  },
  {
   "cell_type": "code",
   "execution_count": 92,
   "metadata": {},
   "outputs": [
    {
     "name": "stdout",
     "output_type": "stream",
     "text": [
      "2\n",
      "11 students in class 1\n",
      "23 students in class 1 and 2\n",
      "[('James', 3), ('Frank', 2), ('Bob', 1)]\n",
      "[('James', 2)]\n",
      "Counter({'James': 1, 'Frank': 1})\n"
     ]
    }
   ],
   "source": [
    "# Demonstrate the usage of Counter objects\n",
    "\n",
    "from collections import Counter\n",
    "\n",
    "\n",
    "def main():\n",
    "    # list of students in class 1\n",
    "    class1 = [\"Bob\", \"James\", \"Chad\", \"Darcy\", \"Penny\", \"Hannah\"\n",
    "              \"Kevin\", \"James\", \"Melanie\", \"Becky\", \"Steve\", \"Frank\"]\n",
    "\n",
    "    # list of students in class 2\n",
    "    class2 = [\"Bill\", \"Barry\", \"Cindy\", \"Debbie\", \"Frank\",\n",
    "              \"Gabby\", \"Kelly\", \"James\", \"Joe\", \"Sam\", \"Tara\", \"Ziggy\"]\n",
    "\n",
    "    # Create a Counter for class1 and class2\n",
    "    c1 = Counter(class1)\n",
    "    c2 = Counter(class2)\n",
    "\n",
    "    # How many students in class 1 named James?\n",
    "    print(c1[\"James\"])\n",
    "\n",
    "    # How many students are in class 1?\n",
    "    # This actually returns the index number of the last item instead of a 'len' count.\n",
    "    # Thus, a list with 12 itesms will return 11\n",
    "    print(sum(c1.values()), \"students in class 1\")\n",
    "\n",
    "    # Combine the two classes\n",
    "    c1.update(class2)\n",
    "    print(sum(c1.values()), \"students in class 1 and 2\")\n",
    "\n",
    "    # What's the most common name in the two classes?\n",
    "    print(c1.most_common(3))\n",
    "\n",
    "    # Separate the classes again\n",
    "    c1.subtract(class2)\n",
    "    print(c1.most_common(1))\n",
    "\n",
    "    # What's common between the two classes?\n",
    "    print(c1 & c2)\n",
    "\n",
    "\n",
    "if __name__ == \"__main__\":\n",
    "    main()\n"
   ]
  },
  {
   "cell_type": "markdown",
   "metadata": {},
   "source": [
    "### Ordered Dictionary\n",
    "\n",
    "OrderedDict remembers the order in which the items are inserted. It is NOT a sorted list."
   ]
  },
  {
   "cell_type": "code",
   "execution_count": 173,
   "metadata": {},
   "outputs": [
    {
     "name": "stdout",
     "output_type": "stream",
     "text": [
      "OrderedDict([('Warriors', (25, 5)), ('Rockets', (24, 6)), ('Dragons', (22, 8)), ('Cardinals', (20, 10)), ('Chargers', (20, 10)), ('Royals', (18, 12)), ('Jets', (16, 14)), ('Kings', (15, 15))])\n",
      "Top team:  Warriors (25, 5)\n",
      "OrderedDict([('Rockets', (24, 6)), ('Dragons', (22, 8)), ('Cardinals', (20, 10)), ('Chargers', (20, 10)), ('Royals', (18, 12)), ('Jets', (16, 14)), ('Kings', (15, 15))])\n",
      "3 Rockets\n",
      "4 Dragons\n"
     ]
    }
   ],
   "source": [
    "# Demonstrate the usage of OrderedDict objects\n",
    "'''\n",
    "Differences between normal Dict and OrderedDict are subtle:\n",
    "\n",
    "    - Both can be constructed from a list of tuples as..\n",
    "        - dict(list)\n",
    "        - OrderedDict(list)\n",
    "        \n",
    "    - They both share some methods:\n",
    "        dict: ['__class__', '__contains__', '__delattr__', '__delitem__', '__dir__', '__doc__', '__eq__', '__format__', '__ge__', '__getattribute__', '__getitem__', '__gt__', '__hash__', '__init__', '__init_subclass__', '__iter__', '__le__', '__len__', '__lt__', '__ne__', '__new__', '__reduce__', '__reduce_ex__', '__repr__', '__setattr__', '__setitem__', '__sizeof__', '__str__', '__subclasshook__', 'clear', 'copy', 'fromkeys', 'get', 'items', 'keys', 'pop', 'popitem', 'setdefault', 'update', 'values']    \n",
    "        OrderedDict: ['__class__', '__contains__', '__delattr__', '__delitem__', '__dict__', '__dir__', '__doc__', '__eq__', '__format__', '__ge__', '__getattribute__', '__getitem__', '__gt__', '__hash__', '__init__', '__init_subclass__', '__iter__', '__le__', '__len__', '__lt__', '__ne__', '__new__', '__reduce__', '__reduce_ex__', '__repr__', '__reversed__', '__setattr__', '__setitem__', '__sizeof__', '__str__', '__subclasshook__', 'clear', 'copy', 'fromkeys', 'get', 'items', 'keys', 'move_to_end', 'pop', 'popitem', 'setdefault', 'update', 'values']\n",
    "'''\n",
    "\n",
    "from collections import OrderedDict\n",
    "\n",
    "def Avs_dict(x):\n",
    "    avs_dict ={}\n",
    "    for i in range(len(x)):\n",
    "        key = x[i][0]\n",
    "        avs_dict[key] = x[i][1]\n",
    "    return avs_dict\n",
    "\n",
    "def main():\n",
    "    \n",
    "    # list of sport teams with wins and losses\n",
    "    sportTeams = [(\"Royals\", (18, 12)), (\"Rockets\", (24, 6)), \n",
    "                (\"Cardinals\", (20, 10)), (\"Dragons\", (22, 8)),\n",
    "                (\"Kings\", (15, 15)), (\"Chargers\", (20, 10)), \n",
    "                (\"Jets\", (16, 14)), (\"Warriors\", (25, 5))]\n",
    "    \n",
    "    \n",
    "# Normal way to make a dict from list of tuples\n",
    "    avs_dict = dict(sportTeams)\n",
    "\n",
    "# Custom way to make a dict    \n",
    "#    avs_dict = Avs_dict(sportTeams)\n",
    "    \n",
    "    # sort the teams by number of wins\n",
    "    # The lambda function takes each tuple in the list where t[0] = name, t[1] = (wins, losses)\n",
    "    # The statement below sorts the items in the list based on wins (t[1][0])\n",
    "    sortedTeams = sorted(sportTeams, key=lambda t: t[1][0], reverse=True)\n",
    "\n",
    "    # Normal sorting does it on the keys\n",
    "#    sortedTeams = sorted(sportTeams, reverse=True)\n",
    "#    print(sortedTeams)\n",
    "    \n",
    "    # create an ordered dictionary of the teams\n",
    "    teams = OrderedDict(sortedTeams)\n",
    "    print(teams)\n",
    "#    print('Keys = ', teams.keys())\n",
    "#    print('Items = ', teams.items())\n",
    "\n",
    "    # Use popitem to remove the top item. False = Pop from the left (First); True = Pop from the right (Last item)\n",
    "    tm, wl = teams.popitem(False) \n",
    "    print(\"Top team: \", tm, wl)\n",
    "    print(teams)\n",
    "\n",
    "    # What are next top 4 teams?\n",
    "    for i, team in enumerate(teams, start=3):\n",
    "        print(i, team)\n",
    "        if i == 4:\n",
    "            break\n",
    "\n",
    "    # test for equality\n",
    "    a = OrderedDict({\"a\": 1, \"b\": 2, \"c\": 3})\n",
    "    b = OrderedDict({\"a\": 1, \"c\": 3, \"b\": 2})\n",
    "#    print(\"Equality test: \", a == b)\n",
    "\n",
    "\n",
    "if __name__ == \"__main__\":\n",
    "    main()\n"
   ]
  },
  {
   "cell_type": "markdown",
   "metadata": {},
   "source": [
    "### Deque\n",
    "\n",
    "Deque (pronounced, 'deck') is a list that can be accessed from left or right."
   ]
  },
  {
   "cell_type": "code",
   "execution_count": 183,
   "metadata": {},
   "outputs": [
    {
     "name": "stdout",
     "output_type": "stream",
     "text": [
      "abcdefghijklmnopqrstuvwxyzABCDEFGHIJKLMNOPQRSTUVWXYZ\n",
      "Item count: 26\n",
      "A B C D E F G H I J K L M N O P Q R S T U V W X Y Z \n",
      " deque([1, 'b', 'c', 'd', 'e', 'f', 'g', 'h', 'i', 'j', 'k', 'l', 'm', 'n', 'o', 'p', 'q', 'r', 's', 't', 'u', 'v', 'w', 'x', 'y', 2])\n"
     ]
    }
   ],
   "source": [
    "# deque objects are like double-ended queues\n",
    "\n",
    "import collections\n",
    "import string\n",
    "\n",
    "\n",
    "def main():\n",
    "\n",
    "    # AVS: Get all letters in the alphabet\n",
    "    a = string.ascii_lowercase + string.ascii_uppercase\n",
    "    print(a)\n",
    "\n",
    "    # initialize a deque with lowercase letters\n",
    "    d = collections.deque(string.ascii_lowercase)\n",
    "\n",
    "    # deques support the len() function\n",
    "    print(\"Item count: \" + str(len(d)))\n",
    "\n",
    "    # deques can be iterated over\n",
    "    for elem in d:\n",
    "        print(elem.upper(), end=\" \")\n",
    "\n",
    "    # manipulate items from either end\n",
    "    d.pop()\n",
    "    d.popleft()\n",
    "    d.append(2)\n",
    "    d.appendleft(1)\n",
    "    print('\\n', d)\n",
    "\n",
    "    # rotate the deque\n",
    "#    print(d)\n",
    "    d.rotate(1)\n",
    "#    print(d)\n",
    "\n",
    "\n",
    "if __name__ == \"__main__\":\n",
    "    main()"
   ]
  },
  {
   "cell_type": "markdown",
   "metadata": {},
   "source": [
    "## Advanced Classes and Objects\n",
    "\n",
    "### Defining enumerators"
   ]
  },
  {
   "cell_type": "code",
   "execution_count": 206,
   "metadata": {},
   "outputs": [
    {
     "name": "stdout",
     "output_type": "stream",
     "text": [
      "['__class__', '__doc__', '__module__', 'name', 'value']\n",
      "Fruit.APPLE\n",
      "<enum 'Fruit'>\n",
      "<Fruit.APPLE: 1>\n",
      "APPLE 1\n",
      "5\n",
      "Come Mr. Tally-man\n"
     ]
    }
   ],
   "source": [
    "# define enumerations using the Enum base class\n",
    "\n",
    "from enum import Enum, unique, auto\n",
    "\n",
    "\n",
    "@unique\n",
    "class Fruit(Enum):\n",
    "    APPLE = 1\n",
    "    BANANA = 2\n",
    "    ORANGE = 3\n",
    "    TOMATO = 4\n",
    "    PEAR = auto()\n",
    "\n",
    "\n",
    "def main():\n",
    "    # enums have human-readable values and types\n",
    "    print(dir(Fruit.APPLE))\n",
    "    print(Fruit.APPLE)\n",
    "    print(type(Fruit.APPLE))\n",
    "    print(repr(Fruit.APPLE))\n",
    "\n",
    "    # enums have name and value properties\n",
    "    print(Fruit.APPLE.name, Fruit.APPLE.value)\n",
    "\n",
    "    # print the auto-generated value\n",
    "    print(Fruit.PEAR.value)\n",
    "\n",
    "    # enums are hashable - can be used as keys\n",
    "    myFruits = {}\n",
    "    myFruits[Fruit.BANANA] = \"Come Mr. Tally-man\"\n",
    "    print(myFruits[Fruit.BANANA])\n",
    "\n",
    "\n",
    "if __name__ == \"__main__\":\n",
    "    main()\n"
   ]
  },
  {
   "cell_type": "markdown",
   "metadata": {},
   "source": [
    "### Class String Values\n",
    "\n",
    "In a class the __str__ method takes preference over __repr__ which in turn is over __main__\n",
    "\n"
   ]
  },
  {
   "cell_type": "code",
   "execution_count": 225,
   "metadata": {},
   "outputs": [
    {
     "name": "stdout",
     "output_type": "stream",
     "text": [
      "<Person Class - fname:Joe, lname:Marini, age25>\n",
      "Str_Person (Joe Marini is 25)\n",
      "Joe Marini 25\n"
     ]
    }
   ],
   "source": [
    "# customize string representations of objects\n",
    "\n",
    "\n",
    "class Person():\n",
    "    def __init__(self):\n",
    "        self.fname = \"Joe\"\n",
    "        self.lname = \"Marini\"\n",
    "        self.age = 25\n",
    "\n",
    "    # use __repr__ to create a string useful for debugging\n",
    "    def __repr__(self):\n",
    "        return \"<Person Class - fname:{0}, lname:{1}, age{2}>\".format(self.fname, self.lname, self.age)\n",
    "\n",
    "    # use str for a more human-readable string\n",
    "    def __str__(self):\n",
    "        return \"Str_Person ({0} {1} is {2})\".format(self.fname, self.lname, self.age)\n",
    "\n",
    "    # use bytes to convert the informal string to a bytes object\n",
    "    def __bytes__(self):\n",
    "        val = \"Bytes_Person:{0}:{1}:{2}\".format(self.fname, self.lname, self.age)\n",
    "        return bytes(val.encode('utf-8'))\n",
    "\n",
    "\n",
    "def main():\n",
    "    # create a new Person object\n",
    "    cls1 = Person()\n",
    "\n",
    "    # use different Python functions to convert it to a string\n",
    "    print(repr(cls1))\n",
    "    print(cls1)\n",
    "    print(cls1.fname, cls1.lname, cls1.age)\n",
    "#    print(\"Formatted: {0}\".format(cls1))\n",
    "#    print(bytes(cls1))\n",
    "\n",
    "\n",
    "if __name__ == \"__main__\":\n",
    "    main()\n"
   ]
  },
  {
   "cell_type": "markdown",
   "metadata": {},
   "source": [
    "### Computed Attributes\n",
    "\n",
    "The class methods, '__getattr__' returns the values as per the formatting in the class.\n",
    "\n",
    "The '__setattr__' method sets the values.\n",
    "\n",
    "The '__dir__' lists the available methods"
   ]
  },
  {
   "cell_type": "code",
   "execution_count": 226,
   "metadata": {},
   "outputs": [
    {
     "name": "stdout",
     "output_type": "stream",
     "text": [
      "(50, 75, 100)\n",
      "#324b64\n",
      "(125, 200, 86)\n",
      "#7dc856\n",
      "125\n",
      "['hexcolor', 'rgbolor']\n"
     ]
    }
   ],
   "source": [
    "# customize string representations of objects\n",
    "\n",
    "\n",
    "class myColor():\n",
    "    def __init__(self):\n",
    "        self.red = 50\n",
    "        self.green = 75\n",
    "        self.blue = 100\n",
    "\n",
    "    # use getattr to dynamically return a value\n",
    "    def __getattr__(self, attr):\n",
    "        if attr == \"rgbcolor\":\n",
    "            return (self.red, self.green, self.blue)\n",
    "        elif attr == \"hexcolor\":\n",
    "            return \"#{0:02x}{1:02x}{2:02x}\".format(self.red, self.green, self.blue)\n",
    "        else:\n",
    "            raise AttributeError\n",
    "\n",
    "    # use setattr to dynamically return a value\n",
    "    def __setattr__(self, attr, val):\n",
    "        if attr == \"rgbcolor\":\n",
    "            self.red = val[0]\n",
    "            self.green = val[1]\n",
    "            self.blue = val[2]\n",
    "        else:\n",
    "            super().__setattr__(attr, val)\n",
    "\n",
    "    # use dir to list the available properties\n",
    "    def __dir__(self):\n",
    "        return (\"rgbolor\", \"hexcolor\")\n",
    "\n",
    "\n",
    "def main():\n",
    "    # create an instance of myColor\n",
    "    cls1 = myColor()\n",
    "    # print the value of a computed attribute\n",
    "    print(cls1.rgbcolor)\n",
    "    print(cls1.hexcolor)\n",
    "\n",
    "    # set the value of a computed attribute\n",
    "    cls1.rgbcolor = (125, 200, 86)\n",
    "    print(cls1.rgbcolor)\n",
    "    print(cls1.hexcolor)\n",
    "\n",
    "    # access a regular attribute\n",
    "    print(cls1.red)\n",
    "\n",
    "    # list the available attributes\n",
    "    print(dir(cls1))\n",
    "\n",
    "\n",
    "if __name__ == \"__main__\":\n",
    "    main()\n"
   ]
  }
 ],
 "metadata": {
  "kernelspec": {
   "display_name": "Python 3",
   "language": "python",
   "name": "python3"
  },
  "language_info": {
   "codemirror_mode": {
    "name": "ipython",
    "version": 3
   },
   "file_extension": ".py",
   "mimetype": "text/x-python",
   "name": "python",
   "nbconvert_exporter": "python",
   "pygments_lexer": "ipython3",
   "version": "3.7.4"
  }
 },
 "nbformat": 4,
 "nbformat_minor": 2
}
