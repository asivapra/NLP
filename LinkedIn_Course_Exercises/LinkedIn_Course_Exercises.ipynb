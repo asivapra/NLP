{
 "cells": [
  {
   "cell_type": "markdown",
   "metadata": {},
   "source": [
    "# Advanvced Python\n",
    "\n",
    "## Using Utilities and Functions\n",
    "\n",
    "### Utilities"
   ]
  },
  {
   "cell_type": "code",
   "execution_count": 80,
   "metadata": {},
   "outputs": [],
   "source": [
    "import itertools"
   ]
  },
  {
   "cell_type": "code",
   "execution_count": 8,
   "metadata": {},
   "outputs": [],
   "source": [
    "    l = [1, 2, 3, 4, 5, 6]"
   ]
  },
  {
   "cell_type": "code",
   "execution_count": 9,
   "metadata": {},
   "outputs": [
    {
     "data": {
      "text/plain": [
       "True"
      ]
     },
     "execution_count": 9,
     "metadata": {},
     "output_type": "execute_result"
    }
   ],
   "source": [
    "all(l)"
   ]
  },
  {
   "cell_type": "code",
   "execution_count": 10,
   "metadata": {},
   "outputs": [
    {
     "data": {
      "text/plain": [
       "1"
      ]
     },
     "execution_count": 10,
     "metadata": {},
     "output_type": "execute_result"
    }
   ],
   "source": [
    "min(l)"
   ]
  },
  {
   "cell_type": "code",
   "execution_count": 11,
   "metadata": {},
   "outputs": [
    {
     "data": {
      "text/plain": [
       "6"
      ]
     },
     "execution_count": 11,
     "metadata": {},
     "output_type": "execute_result"
    }
   ],
   "source": [
    "max(l)"
   ]
  },
  {
   "cell_type": "code",
   "execution_count": 12,
   "metadata": {},
   "outputs": [
    {
     "data": {
      "text/plain": [
       "21"
      ]
     },
     "execution_count": 12,
     "metadata": {},
     "output_type": "execute_result"
    }
   ],
   "source": [
    "sum(l)"
   ]
  },
  {
   "cell_type": "markdown",
   "metadata": {},
   "source": [
    "### Iterators"
   ]
  },
  {
   "cell_type": "code",
   "execution_count": 24,
   "metadata": {},
   "outputs": [],
   "source": [
    "d = [\"Sun\", \"Mon\", \"Tue\", \"Wed\", \"Thu\", \"Fri\", \"Sat\"]\n",
    "df = [\"Dim\", \"Lun\", \"Mar\", \"Mer\", \"Jeu\", \"Ven\", \"Sam\"]\n"
   ]
  },
  {
   "cell_type": "code",
   "execution_count": 25,
   "metadata": {},
   "outputs": [],
   "source": [
    "i = iter(d)"
   ]
  },
  {
   "cell_type": "code",
   "execution_count": 28,
   "metadata": {
    "scrolled": true
   },
   "outputs": [
    {
     "data": {
      "text/plain": [
       "'Tue'"
      ]
     },
     "execution_count": 28,
     "metadata": {},
     "output_type": "execute_result"
    }
   ],
   "source": [
    "next(i)"
   ]
  },
  {
   "cell_type": "code",
   "execution_count": 29,
   "metadata": {
    "scrolled": false
   },
   "outputs": [
    {
     "name": "stdout",
     "output_type": "stream",
     "text": [
      "1 Sun\n",
      "2 Mon\n",
      "3 Tue\n",
      "4 Wed\n",
      "5 Thu\n",
      "6 Fri\n",
      "7 Sat\n"
     ]
    }
   ],
   "source": [
    "for i,m in enumerate(d, start=1):\n",
    "    print(i,m)"
   ]
  },
  {
   "cell_type": "code",
   "execution_count": 32,
   "metadata": {
    "scrolled": true
   },
   "outputs": [
    {
     "name": "stdout",
     "output_type": "stream",
     "text": [
      "('Sun', 'Dim')\n",
      "('Mon', 'Lun')\n",
      "('Tue', 'Mar')\n",
      "('Wed', 'Mer')\n",
      "('Thu', 'Jeu')\n",
      "('Fri', 'Ven')\n",
      "('Sat', 'Sam')\n"
     ]
    }
   ],
   "source": [
    "for m in zip(d,df):\n",
    "    print(m)"
   ]
  },
  {
   "cell_type": "code",
   "execution_count": 39,
   "metadata": {
    "scrolled": true
   },
   "outputs": [
    {
     "name": "stdout",
     "output_type": "stream",
     "text": [
      "1 Sun = Dim in French\n",
      "2 Mon = Lun in French\n",
      "3 Tue = Mar in French\n",
      "4 Wed = Mer in French\n",
      "5 Thu = Jeu in French\n",
      "6 Fri = Ven in French\n",
      "7 Sat = Sam in French\n"
     ]
    }
   ],
   "source": [
    "for i,m in enumerate(zip(d,df), start=1):\n",
    "    print(i,m[0], '=', m[1], 'in French')"
   ]
  },
  {
   "cell_type": "code",
   "execution_count": 45,
   "metadata": {
    "scrolled": true
   },
   "outputs": [
    {
     "name": "stdout",
     "output_type": "stream",
     "text": [
      "0 Sun Dim\n",
      "1 Mon Lun\n",
      "2 Tue Mar\n",
      "3 Wed Mer\n",
      "4 Thu Jeu\n",
      "5 Fri Ven\n",
      "6 Sat Sam\n"
     ]
    }
   ],
   "source": [
    "ddf = zip(d,df)\n",
    "for i,m in enumerate(ddf):\n",
    "    print(i,m[0],m[1])"
   ]
  },
  {
   "cell_type": "markdown",
   "metadata": {},
   "source": [
    "### Transforms"
   ]
  },
  {
   "cell_type": "code",
   "execution_count": 78,
   "metadata": {
    "scrolled": true
   },
   "outputs": [
    {
     "name": "stdout",
     "output_type": "stream",
     "text": [
      "[1, 5, 13, 381, 47]\n",
      "['a', 'b', 'c', 'e', 'i', 'k', 'l', 'm', 'n', 'o']\n",
      "[1, 64, 16, 25, 169, 0, 145161, 168100, 3364, 2209]\n",
      "['B', 'B', 'A', 'C', 'F', 'D', 'A', 'C']\n",
      "<class 'list'>\n",
      "[1, 8, 4, 5, 13, 0, 381, 410, 58, 47, 81, 89, 94, 78, 61, 66, 99, 74]\n"
     ]
    }
   ],
   "source": [
    "def fOdds(x):\n",
    "    if x % 2 == 0: return False\n",
    "    else: return True\n",
    "\n",
    "\n",
    "def Lowers(x)    :\n",
    "    if x.isupper(): return False\n",
    "    return True\n",
    "    \n",
    "\n",
    "def Squares(x):\n",
    "    return x**2\n",
    "\n",
    "\n",
    "def Grade(x):\n",
    "    if (x >= 90): return \"A\"\n",
    "    elif (x >= 80 and x < 90): return \"B\"\n",
    "    elif (x >= 70 and x < 80): return \"C\"\n",
    "    elif (x >= 65 and x < 70): return \"D\"\n",
    "    else: return \"F\"\n",
    "    \n",
    "    \n",
    "def Return(x):\n",
    "    return x\n",
    "    \n",
    "# -------------------------------------------------------------------------------------\n",
    "n = (1, 8, 4,5,13,0,381,410,58,47)\n",
    "ch = \"abcDeFGHiJklmnoP\"\n",
    "gr = (81,89,94,78,61,66,99,74)\n",
    "\n",
    "odds = list(filter(fOdds, n))\n",
    "print(odds)\n",
    "\n",
    "lowers = list(filter(Lowers,ch))\n",
    "print(lowers)\n",
    "\n",
    "'''\n",
    "The map function takes one or more sequence of values and creates a new sequence\n",
    "\n",
    "Python map() function is used to apply a function on all the elements of specified \n",
    "iterable and return map object. Python map object is an iterator, so we can iterate \n",
    "over its elements. We can also convert map object to sequence objects \n",
    "such as list, tuple etc. using their factory functions.\n",
    "\n",
    "Iterable is an object, which one can iterate over. It generates an Iterator when passed \n",
    "to iter() method. Iterator is an object, which is used to iterate over an iterable \n",
    "object using __next__() method. Iterators have __next__() method, which returns the \n",
    "next item of the object.\n",
    "'''\n",
    "\n",
    "squares = list(map(Squares, n))\n",
    "print(squares)\n",
    "\n",
    "lt = list(map(Grade, gr))\n",
    "print(lt)\n",
    "\n",
    "ngr = list(map(Return, n + gr))\n",
    "#ngr = n + gr\n",
    "print(type(ngr))\n",
    "print(ngr)"
   ]
  },
  {
   "cell_type": "markdown",
   "metadata": {},
   "source": [
    "### Itertools"
   ]
  },
  {
   "cell_type": "code",
   "execution_count": 103,
   "metadata": {},
   "outputs": [
    {
     "name": "stdout",
     "output_type": "stream",
     "text": [
      "Joe\n",
      "John\n",
      "Mike\n",
      "Joe\n",
      "John\n",
      "Mike\n",
      "Joe\n",
      "John\n",
      "Mike\n",
      "Joe\n"
     ]
    }
   ],
   "source": [
    "# https://docs.python.org/3/library/itertools.html\n",
    "seq1 = [\"Joe\", \"John\", \"Mike\"]\n",
    "\n",
    "# Cycles through the list and start from beginning\n",
    "cycle1 = itertools.cycle(seq1)\n",
    "for i in range(10): print(next(cycle1))"
   ]
  },
  {
   "cell_type": "code",
   "execution_count": 104,
   "metadata": {
    "scrolled": true
   },
   "outputs": [
    {
     "name": "stdout",
     "output_type": "stream",
     "text": [
      "100\n",
      "110\n",
      "120\n",
      "130\n",
      "140\n",
      "150\n",
      "160\n",
      "170\n",
      "180\n",
      "190\n"
     ]
    }
   ],
   "source": [
    "# count iterator starts with a number and increments by another (def=1)\n",
    "count1 = itertools.count(100,10)\n",
    "for i in range(10): print(next(count1))"
   ]
  },
  {
   "cell_type": "code",
   "execution_count": 112,
   "metadata": {},
   "outputs": [
    {
     "name": "stdout",
     "output_type": "stream",
     "text": [
      "[10, 19, 49, 89, 94, 154, 157]\n",
      "[10, 10, 30, 40, 40, 60, 60]\n",
      "[10, 9, 9, 9, 5, 5, 3]\n"
     ]
    }
   ],
   "source": [
    "vals = [10,9,30,40,5,60,3]\n",
    "\n",
    "# Adds all values up to the current\n",
    "acc = itertools.accumulate(vals)\n",
    "print(list(acc))\n",
    "\n",
    "# Prints out the values as such until the max is reached\n",
    "acc = itertools.accumulate(vals, max)\n",
    "print(list(acc))\n",
    "\n",
    "# Prints out the values as lower of the current and previous\n",
    "acc = itertools.accumulate(vals, min)\n",
    "print(list(acc))\n"
   ]
  },
  {
   "cell_type": "code",
   "execution_count": 121,
   "metadata": {},
   "outputs": [
    {
     "name": "stdout",
     "output_type": "stream",
     "text": [
      "<class 'itertools.chain'>\n",
      "['A', 'B', 'C', 'D', '1', '2', '3', '4']\n"
     ]
    }
   ],
   "source": [
    "# 'Chain' to connect two sequences\n",
    "x = itertools.chain(\"ABCD\", \"1234\")\n",
    "#x = \"ABCD\" + \"1234\"\n",
    "print(type(x))\n",
    "\n",
    "# 'list' converts a string to its chars and a chain object into its chars as well\n",
    "print(list(x))"
   ]
  }
 ],
 "metadata": {
  "kernelspec": {
   "display_name": "Python 3",
   "language": "python",
   "name": "python3"
  },
  "language_info": {
   "codemirror_mode": {
    "name": "ipython",
    "version": 3
   },
   "file_extension": ".py",
   "mimetype": "text/x-python",
   "name": "python",
   "nbconvert_exporter": "python",
   "pygments_lexer": "ipython3",
   "version": "3.7.4"
  }
 },
 "nbformat": 4,
 "nbformat_minor": 2
}
